{
 "cells": [
  {
   "cell_type": "code",
   "execution_count": 12,
   "metadata": {
    "collapsed": true
   },
   "outputs": [],
   "source": [
    "import pandas as pd\n",
    "from sklearn import base\n",
    "from sklearn.feature_extraction import DictVectorizer\n",
    "from sklearn.pipeline import Pipeline, FeatureUnion\n",
    "from sklearn.neighbors import NearestNeighbors\n",
    "from sklearn.linear_model import RidgeCV, LinearRegression, SGDRegressor, Ridge\n",
    "from sklearn.decomposition import TruncatedSVD\n",
    "from sklearn.model_selection import GridSearchCV\n",
    "from sklearn.metrics import mean_squared_error\n",
    "from sklearn.model_selection import train_test_split\n",
    "import numpy as np\n",
    "import seaborn as sns\n",
    "from collections import defaultdict"
   ]
  },
  {
   "cell_type": "code",
   "execution_count": 5,
   "metadata": {
    "collapsed": true
   },
   "outputs": [],
   "source": [
    "# One-hot encode the catergories. In order to vectorize them using DictVectorizer()\n",
    "#need to transform the column into list of dictionaries\n",
    "\n",
    "class DictEncoder(base.BaseEstimator, base.TransformerMixin):\n",
    "    \n",
    "    def __init__(self, col, imp = 0):\n",
    "        self.col = col\n",
    "        self.imp = imp\n",
    "    def fit(self, X, y=None):\n",
    "        return self\n",
    "    \n",
    "    def transform(self, X):\n",
    "        \n",
    "        def to_dict(l):\n",
    "            dic = defaultdict(int)\n",
    "            try:\n",
    "                for x in l:\n",
    "                    if x:\n",
    "                        dic[x] = 10**(-self.imp)\n",
    "                return dic\n",
    "            except TypeError:\n",
    "                return {}\n",
    "        \n",
    "        return X[self.col].apply(to_dict)"
   ]
  },
  {
   "cell_type": "code",
   "execution_count": 6,
   "metadata": {
    "collapsed": true
   },
   "outputs": [],
   "source": [
    "class DictEncoder_l(base.BaseEstimator, base.TransformerMixin):\n",
    "    \n",
    "    def __init__(self, col, imp=0): # if not specify label, use the whole features\n",
    "        self.col = col\n",
    "        self.imp = imp\n",
    "    def fit(self, X, y=None):\n",
    "        return self\n",
    "    \n",
    "    def transform(self, X):\n",
    "        \n",
    "        def to_dict(x):\n",
    "            dic = defaultdict(int)\n",
    "            try:\n",
    "                if x:\n",
    "                    dic[x] = 10**(-self.imp)\n",
    "                return dic\n",
    "            except TypeError:\n",
    "                return {}\n",
    "        \n",
    "        return X[self.col].apply(to_dict)\n",
    "\n",
    "# scale professional rating into numbers between 1 to 10\n",
    "class DictEncoder_scale(base.BaseEstimator, base.TransformerMixin): \n",
    "    \n",
    "    def __init__(self, col, label = [], imp=0): # if not specify label, use the whole features\n",
    "        self.col = col\n",
    "        self.label = label\n",
    "        self.imp = imp\n",
    "    def fit(self, X, y=None):\n",
    "        return self\n",
    "    \n",
    "    def transform(self, X):\n",
    "        \n",
    "        def to_dict(x):\n",
    "            dic = defaultdict(int)\n",
    "            try:\n",
    "                if 1 <= x <= 100:\n",
    "                    dic[str(x)] = (x/100.0)*10**self.imp\n",
    "                elif x == 0:\n",
    "                    dic[str(x)] = 1\n",
    "                return dic\n",
    "            except TypeError:\n",
    "                return {}\n",
    "        \n",
    "        return X[self.col].apply(to_dict)\n"
   ]
  },
  {
   "cell_type": "code",
   "execution_count": 8,
   "metadata": {
    "collapsed": true
   },
   "outputs": [],
   "source": [
    "def unioned_features(weight = [0,0,0,0,0,0]):\n",
    "    vineyard_pipe = Pipeline([('encoder', DictEncoder_l('Vineyard/Name', imp = weight[0])),\n",
    "                         ('vectorizer', DictVectorizer())])\n",
    "    varietal_pipe = Pipeline([('encoder', DictEncoder_l('Varietal/Name', imp = weight[1])),\n",
    "                         ('vectorizer', DictVectorizer())])\n",
    "    wineType_pipe = Pipeline([('encoder', DictEncoder_l('Varietal/WineType/Name', imp = weight[2])),\n",
    "                         ('vectorizer', DictVectorizer())])\n",
    "    region_pipe = Pipeline([('encoder', DictEncoder_l('Appellation/Region/Name',imp = weight[3])),\n",
    "                         ('vectorizer', DictVectorizer())])\n",
    "    Attr_pipe = Pipeline([('encoder', DictEncoder('Attr', imp = weight[4])),\n",
    "                         ('vectorizer', DictVectorizer())])\n",
    "    rating_p = Pipeline([('encoder', DictEncoder_scale('Ratings/HighestScore', imp = weight[5])),\n",
    "                         ('vectorizer', DictVectorizer())])\n",
    "    \n",
    "    union = FeatureUnion([('vineyard', vineyard_pipe),\n",
    "                      ('varietal', varietal_pipe),\n",
    "                      ('wineType', wineType_pipe),\n",
    "                      ('Region', region_pipe),\n",
    "                      ('Attr', Attr_pipe),\n",
    "                      ('rating', rating_p)\n",
    "                     ])\n",
    "    return union"
   ]
  },
  {
   "cell_type": "code",
   "execution_count": 94,
   "metadata": {
    "collapsed": true
   },
   "outputs": [],
   "source": [
    "# content results\n",
    "def content_recommend(wine_n, wine_id, df):\n",
    "    df = df.fillna(value = \"nan\")\n",
    "    union = unioned_features()\n",
    "    features = union.fit_transform(df)\n",
    "    nn = NearestNeighbors(n_neighbors=wine_n).fit(features)\n",
    "    res = []\n",
    "    for i in wine_id:\n",
    "        dists, indices = nn.kneighbors(features[fd[fd[\"Id\"]==i].index.tolist()[0]])\n",
    "        res.append(fd.loc[indices[0]])\n",
    "    df = pd.concat(res).drop_duplicates(subset = [\"Id\"])\n",
    "    return df"
   ]
  },
  {
   "cell_type": "code",
   "execution_count": 93,
   "metadata": {
    "collapsed": true
   },
   "outputs": [],
   "source": [
    "def bayes_sum(N, mu):\n",
    "    return lambda x: (x.sum() + mu*N) / float(x.count() + N)"
   ]
  },
  {
   "cell_type": "code",
   "execution_count": 105,
   "metadata": {},
   "outputs": [],
   "source": [
    "#collabrative results\n",
    "def collabrative_filtering(rev, wine_n_col, user_name):\n",
    "    user_ratings = rev[['wine_id', 'rating', 'user_name']]\n",
    "    by_user_rating = user_ratings.groupby('user_name').apply(lambda items : {i[1]:i[2] for i in items.itertuples()})\n",
    "    features = DictVectorizer().fit_transform(by_user_rating)\n",
    "    nn = NearestNeighbors(n_neighbors = wine_n_col, metric='cosine', algorithm='brute').fit(features)\n",
    "    dists, indices = nn.kneighbors(features[by_user_rating.index.get_loc(user_name), :])\n",
    "    neighbors = [by_user_rating.index[i] for i in indices[0]][1:]\n",
    "    ratings_grp = rev[rev['user_name'].isin(neighbors)].groupby('wine_id')['rating']\n",
    "    bsum = ratings_grp.aggregate(bayes_sum(5, 3)).sort_values(ascending=False)[:10]\n",
    "    res = bsum.to_frame().index.tolist()\n",
    "    return res"
   ]
  },
  {
   "cell_type": "code",
   "execution_count": 100,
   "metadata": {
    "collapsed": true
   },
   "outputs": [],
   "source": [
    "#final result\n",
    "def recommend_result(wine_n, wine_id, df, rev, wine_n_col, user_name, content_only = True, collab_only = True):\n",
    "    content = content_recommend(wine_n, wine_id, df)[\"Id\"]\n",
    "    collab = collabrative_filtering(rev, wine_n, user_name)\n",
    "    if content_only and collab_only:\n",
    "        rec = set()\n",
    "        rec.update(content)\n",
    "        rec.update(collab)\n",
    "        return list(rec)\n",
    "    if content_only and not collab_only:\n",
    "        return content\n",
    "    if not content_only and collab_only:\n",
    "        return collab"
   ]
  },
  {
   "cell_type": "code",
   "execution_count": 103,
   "metadata": {
    "scrolled": false
   },
   "outputs": [],
   "source": [
    "#df is the whole dataframe, rev is the review_list dataframe\n",
    "rec = recommend_result(5, [109052, 109373], df, rev, 5, 'Lisa Strutz', collab_only = False)"
   ]
  }
 ],
 "metadata": {
  "kernelspec": {
   "display_name": "Python 3",
   "language": "python",
   "name": "python3"
  },
  "language_info": {
   "codemirror_mode": {
    "name": "ipython",
    "version": 3
   },
   "file_extension": ".py",
   "mimetype": "text/x-python",
   "name": "python",
   "nbconvert_exporter": "python",
   "pygments_lexer": "ipython3",
   "version": "3.6.2"
  }
 },
 "nbformat": 4,
 "nbformat_minor": 2
}
