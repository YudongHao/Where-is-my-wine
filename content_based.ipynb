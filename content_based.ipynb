{
 "cells": [
  {
   "cell_type": "markdown",
   "metadata": {},
   "source": [
    "# Content-based\n",
    "\n",
    "## Use the attributes in the dataset"
   ]
  },
  {
   "cell_type": "code",
   "execution_count": 2,
   "metadata": {
    "collapsed": true,
    "scrolled": true
   },
   "outputs": [],
   "source": [
    "import pandas as pd\n",
    "import glob\n",
    "import json\n",
    "from collections import defaultdict\n",
    "from flatten_dict import flatten\n",
    "from sklearn import base\n",
    "from sklearn.feature_extraction import DictVectorizer\n",
    "from sklearn.pipeline import Pipeline, FeatureUnion\n",
    "from sklearn.neighbors import NearestNeighbors\n",
    "from sklearn.linear_model import RidgeCV, LinearRegression, SGDRegressor, Ridge\n",
    "from sklearn.decomposition import TruncatedSVD\n",
    "from sklearn.model_selection import GridSearchCV\n",
    "from sklearn.metrics import mean_squared_error\n",
    "from sklearn.model_selection import train_test_split"
   ]
  },
  {
   "cell_type": "code",
   "execution_count": 3,
   "metadata": {
    "collapsed": true
   },
   "outputs": [],
   "source": [
    "import numpy as np"
   ]
  },
  {
   "cell_type": "code",
   "execution_count": 4,
   "metadata": {
    "collapsed": true
   },
   "outputs": [],
   "source": [
    "%matplotlib notebook\n",
    "import matplotlib.pyplot as plt\n",
    "import seaborn as sns"
   ]
  },
  {
   "cell_type": "code",
   "execution_count": 5,
   "metadata": {
    "collapsed": true
   },
   "outputs": [],
   "source": [
    "fd = pd.read_pickle(\"feature.pkl\")"
   ]
  },
  {
   "cell_type": "code",
   "execution_count": 20,
   "metadata": {
    "collapsed": true
   },
   "outputs": [],
   "source": [
    "# One-hot encode the catergories. In order to vectorize them using DictVectorizer()\n",
    "#need to transform the column into list of dictionaries\n",
    "\n",
    "class DictEncoder(base.BaseEstimator, base.TransformerMixin):\n",
    "    \n",
    "    def __init__(self, col, imp = 0):\n",
    "        self.col = col\n",
    "        self.imp = imp\n",
    "    def fit(self, X, y=None):\n",
    "        return self\n",
    "    \n",
    "    def transform(self, X):\n",
    "        \n",
    "        def to_dict(l):\n",
    "            dic = defaultdict(int)\n",
    "            try:\n",
    "                for x in l:\n",
    "                    if x:\n",
    "                        dic[x] = 10**(-self.imp)\n",
    "                return dic\n",
    "            except TypeError:\n",
    "                return {}\n",
    "        \n",
    "        return X[self.col].apply(to_dict)"
   ]
  },
  {
   "cell_type": "markdown",
   "metadata": {},
   "source": [
    "### Customize labels in columns"
   ]
  },
  {
   "cell_type": "code",
   "execution_count": 31,
   "metadata": {
    "collapsed": true
   },
   "outputs": [],
   "source": [
    "# this function is to transform the single features per row, which means not in a list\n",
    "# One-hot encode the catergories. In order to vectorize them using DictVectorizer()\n",
    "#need to transform the column into list of dictionaries\n",
    "# old class: try to add weight to each specific label\n",
    "'''\n",
    "import collections\n",
    "class DictEncoder_l(base.BaseEstimator, base.TransformerMixin):\n",
    "    \n",
    "    def __init__(self, col, label = [], imp=0): # if not specify label, use the whole features\n",
    "        self.col = col\n",
    "        self.label = label\n",
    "        self.imp = imp\n",
    "    def fit(self, X, y=None):\n",
    "        return self\n",
    "    \n",
    "    def transform(self, X):\n",
    "        \n",
    "        def to_dict(x):\n",
    "            dic = defaultdict(int)\n",
    "            try:\n",
    "                if self.label:\n",
    "                    if x in self.label:\n",
    "                        dic[x] = 10**(-self.imp)\n",
    "                    else:\n",
    "                        dic[x] = 1\n",
    "                    return dic\n",
    "                else:\n",
    "                    if x:\n",
    "                        dic[x] = 1\n",
    "                    return dic\n",
    "            except TypeError:\n",
    "                return {}\n",
    "        \n",
    "        return X[self.col].apply(to_dict)\n",
    "'''"
   ]
  },
  {
   "cell_type": "code",
   "execution_count": 8,
   "metadata": {
    "collapsed": true
   },
   "outputs": [],
   "source": [
    "import collections\n",
    "class DictEncoder_l(base.BaseEstimator, base.TransformerMixin):\n",
    "    \n",
    "    def __init__(self, col, imp=0): # if not specify label, use the whole features\n",
    "        self.col = col\n",
    "        self.imp = imp\n",
    "    def fit(self, X, y=None):\n",
    "        return self\n",
    "    \n",
    "    def transform(self, X):\n",
    "        \n",
    "        def to_dict(x):\n",
    "            dic = defaultdict(int)\n",
    "            try:\n",
    "                if x:\n",
    "                    dic[x] = 10**(-self.imp)\n",
    "                return dic\n",
    "            except TypeError:\n",
    "                return {}\n",
    "        \n",
    "        return X[self.col].apply(to_dict)"
   ]
  },
  {
   "cell_type": "code",
   "execution_count": 10,
   "metadata": {
    "collapsed": true
   },
   "outputs": [],
   "source": [
    "# scale professional rating into numbers between 1 to 10\n",
    "class DictEncoder_scale(base.BaseEstimator, base.TransformerMixin): \n",
    "    \n",
    "    def __init__(self, col, label = [], imp=0): # if not specify label, use the whole features\n",
    "        self.col = col\n",
    "        self.label = label\n",
    "        self.imp = imp\n",
    "    def fit(self, X, y=None):\n",
    "        return self\n",
    "    \n",
    "    def transform(self, X):\n",
    "        \n",
    "        def to_dict(x):\n",
    "            dic = defaultdict(int)\n",
    "            try:\n",
    "                if 1 <= x <= 100:\n",
    "                    dic[str(x)] = (x/100.0)*10**self.imp\n",
    "                elif x == 0:\n",
    "                    dic[str(x)] = 1\n",
    "                return dic\n",
    "            except TypeError:\n",
    "                return {}\n",
    "        \n",
    "        return X[self.col].apply(to_dict)\n"
   ]
  },
  {
   "cell_type": "code",
   "execution_count": 11,
   "metadata": {
    "collapsed": true
   },
   "outputs": [],
   "source": [
    "# scale selected ranged price into numbers between 0 to 1\n",
    "class Price_scale(base.BaseEstimator, base.TransformerMixin): \n",
    "    \n",
    "    def __init__(self, col, Prange = (4.79, 100)): # if not specify label, use the whole features\n",
    "        self.col = col\n",
    "        self.range = Prange\n",
    "    def fit(self, X, y=None):\n",
    "        return self\n",
    "    \n",
    "    def transform(self, X):\n",
    "        \n",
    "        def to_dict(x):\n",
    "            dic = defaultdict(int)\n",
    "            try:\n",
    "                if self.range[0]<= x <= self.range[1]:\n",
    "                    dic[str(x)] = x/(self.range[1] - self.range[0])\n",
    "                else:\n",
    "                    dic[str(x)] = 1\n",
    "                return dic\n",
    "            except TypeError:\n",
    "                return {}\n",
    "        \n",
    "        return X[self.col].apply(to_dict)"
   ]
  },
  {
   "cell_type": "code",
   "execution_count": 17,
   "metadata": {
    "collapsed": true
   },
   "outputs": [],
   "source": [
    "# adding all feature columns: 'Vintage', 'Vineyard/Name', 'Varietal/Name'(grape), 'Varietal/WineType/Name','Attr'\n",
    "vintage_pipe = Pipeline([('encoder', DictEncoder_l('Vintage')),\n",
    "                     ('vectorizer', DictVectorizer())])\n",
    "vineyard_pipe = Pipeline([('encoder', DictEncoder_l('Vineyard/Name')),\n",
    "                     ('vectorizer', DictVectorizer())])\n",
    "varietal_pipe = Pipeline([('encoder', DictEncoder_l('Varietal/Name', imp = 2)),\n",
    "                     ('vectorizer', DictVectorizer())])\n",
    "wineType_pipe = Pipeline([('encoder', DictEncoder_l('Varietal/WineType/Name')),\n",
    "                     ('vectorizer', DictVectorizer())])\n",
    "PriceRetail_pipe = Pipeline([('encoder', Price_scale('PriceRetail', Prange = (10, 30))),\n",
    "                     ('vectorizer', DictVectorizer())])\n",
    "region_pipe = Pipeline([('encoder', DictEncoder_l('Appellation/Region/Name' )),\n",
    "                     ('vectorizer', DictVectorizer())])\n",
    "Attr_pipe = Pipeline([('encoder', DictEncoder('Attr')),\n",
    "                     ('vectorizer', DictVectorizer())])\n",
    "rating_p = Pipeline([('encoder', DictEncoder_scale('Ratings/HighestScore')),\n",
    "                     ('vectorizer', DictVectorizer())])"
   ]
  },
  {
   "cell_type": "code",
   "execution_count": 18,
   "metadata": {
    "collapsed": true
   },
   "outputs": [],
   "source": [
    "union = FeatureUnion([('vintage', vintage_pipe),\n",
    "                     ('vineyard', vineyard_pipe),\n",
    "                      ('varietal', varietal_pipe),\n",
    "                      ('wineType', wineType_pipe),\n",
    "                      ('Region', region_pipe),\n",
    "                      ('PriceRetail', PriceRetail_pipe),\n",
    "                      ('Attr', Attr_pipe),\n",
    "                      ('rating', rating_p)\n",
    "                     ])"
   ]
  },
  {
   "cell_type": "code",
   "execution_count": 19,
   "metadata": {
    "collapsed": true,
    "scrolled": true
   },
   "outputs": [],
   "source": [
    "features = union.fit_transform(fd)"
   ]
  },
  {
   "cell_type": "code",
   "execution_count": 15,
   "metadata": {
    "scrolled": false
   },
   "outputs": [
    {
     "data": {
      "text/html": [
       "<div>\n",
       "<style>\n",
       "    .dataframe thead tr:only-child th {\n",
       "        text-align: right;\n",
       "    }\n",
       "\n",
       "    .dataframe thead th {\n",
       "        text-align: left;\n",
       "    }\n",
       "\n",
       "    .dataframe tbody tr th {\n",
       "        vertical-align: top;\n",
       "    }\n",
       "</style>\n",
       "<table border=\"1\" class=\"dataframe\">\n",
       "  <thead>\n",
       "    <tr style=\"text-align: right;\">\n",
       "      <th></th>\n",
       "      <th>Attr</th>\n",
       "      <th>Vintage</th>\n",
       "      <th>Vineyard/Name</th>\n",
       "      <th>Varietal/Name</th>\n",
       "      <th>Varietal/WineType/Name</th>\n",
       "      <th>PriceRetail</th>\n",
       "      <th>Appellation/Region/Name</th>\n",
       "      <th>Ratings/HighestScore</th>\n",
       "      <th>Id</th>\n",
       "      <th>Name</th>\n",
       "    </tr>\n",
       "  </thead>\n",
       "  <tbody>\n",
       "    <tr>\n",
       "      <th>33156</th>\n",
       "      <td>[Smooth &amp;amp; Supple, Green Wines]</td>\n",
       "      <td>2010</td>\n",
       "      <td>Frog's Leap</td>\n",
       "      <td>Merlot</td>\n",
       "      <td>Red Wines</td>\n",
       "      <td>34</td>\n",
       "      <td>California</td>\n",
       "      <td>93</td>\n",
       "      <td>119903</td>\n",
       "      <td>Frog's Leap Merlot 2010</td>\n",
       "    </tr>\n",
       "  </tbody>\n",
       "</table>\n",
       "</div>"
      ],
      "text/plain": [
       "                                     Attr Vintage Vineyard/Name Varietal/Name  \\\n",
       "33156  [Smooth &amp; Supple, Green Wines]    2010   Frog's Leap        Merlot   \n",
       "\n",
       "      Varietal/WineType/Name PriceRetail Appellation/Region/Name  \\\n",
       "33156              Red Wines          34              California   \n",
       "\n",
       "      Ratings/HighestScore      Id                     Name  \n",
       "33156                   93  119903  Frog's Leap Merlot 2010  "
      ]
     },
     "execution_count": 15,
     "metadata": {},
     "output_type": "execute_result"
    }
   ],
   "source": [
    "fd[fd['Id'] == 119903]"
   ]
  },
  {
   "cell_type": "code",
   "execution_count": 30,
   "metadata": {
    "scrolled": true
   },
   "outputs": [
    {
     "data": {
      "text/plain": [
       "0.091255719369598379"
      ]
     },
     "execution_count": 30,
     "metadata": {},
     "output_type": "execute_result"
    }
   ],
   "source": [
    "sum(fd['PriceRetail']>100)/110152.0"
   ]
  },
  {
   "cell_type": "code",
   "execution_count": 16,
   "metadata": {},
   "outputs": [
    {
     "data": {
      "text/html": [
       "<div>\n",
       "<style>\n",
       "    .dataframe thead tr:only-child th {\n",
       "        text-align: right;\n",
       "    }\n",
       "\n",
       "    .dataframe thead th {\n",
       "        text-align: left;\n",
       "    }\n",
       "\n",
       "    .dataframe tbody tr th {\n",
       "        vertical-align: top;\n",
       "    }\n",
       "</style>\n",
       "<table border=\"1\" class=\"dataframe\">\n",
       "  <thead>\n",
       "    <tr style=\"text-align: right;\">\n",
       "      <th></th>\n",
       "      <th>Attr</th>\n",
       "      <th>Vintage</th>\n",
       "      <th>Vineyard/Name</th>\n",
       "      <th>Varietal/Name</th>\n",
       "      <th>Varietal/WineType/Name</th>\n",
       "      <th>PriceRetail</th>\n",
       "      <th>Appellation/Region/Name</th>\n",
       "      <th>Ratings/HighestScore</th>\n",
       "      <th>Id</th>\n",
       "      <th>Name</th>\n",
       "    </tr>\n",
       "  </thead>\n",
       "  <tbody>\n",
       "    <tr>\n",
       "      <th>33156</th>\n",
       "      <td>[Smooth &amp;amp; Supple, Green Wines]</td>\n",
       "      <td>2010</td>\n",
       "      <td>Frog's Leap</td>\n",
       "      <td>Merlot</td>\n",
       "      <td>Red Wines</td>\n",
       "      <td>34</td>\n",
       "      <td>California</td>\n",
       "      <td>93</td>\n",
       "      <td>119903</td>\n",
       "      <td>Frog's Leap Merlot 2010</td>\n",
       "    </tr>\n",
       "    <tr>\n",
       "      <th>99360</th>\n",
       "      <td>[Smooth &amp;amp; Supple, Green Wines]</td>\n",
       "      <td>2010</td>\n",
       "      <td>Frog's Leap</td>\n",
       "      <td>Merlot</td>\n",
       "      <td>Red Wines</td>\n",
       "      <td>76</td>\n",
       "      <td>California</td>\n",
       "      <td>0</td>\n",
       "      <td>121126</td>\n",
       "      <td>Frog's Leap Merlot (1.5 Liter Magnum) 2010</td>\n",
       "    </tr>\n",
       "    <tr>\n",
       "      <th>32976</th>\n",
       "      <td>[Smooth &amp;amp; Supple, Green Wines]</td>\n",
       "      <td>2010</td>\n",
       "      <td>Frog's Leap</td>\n",
       "      <td>Cabernet Sauvignon</td>\n",
       "      <td>Red Wines</td>\n",
       "      <td>42</td>\n",
       "      <td>California</td>\n",
       "      <td>0</td>\n",
       "      <td>121128</td>\n",
       "      <td>Frog's Leap Estate Grown Cabernet Sauvignon 2010</td>\n",
       "    </tr>\n",
       "    <tr>\n",
       "      <th>71011</th>\n",
       "      <td>[Green Wines, Smooth &amp;amp; Supple]</td>\n",
       "      <td>2010</td>\n",
       "      <td>Frog's Leap</td>\n",
       "      <td>Cabernet Sauvignon</td>\n",
       "      <td>Red Wines</td>\n",
       "      <td>85</td>\n",
       "      <td>California</td>\n",
       "      <td>0</td>\n",
       "      <td>125119</td>\n",
       "      <td>Frog's Leap Estate Grown Cabernet Sauvignon (1...</td>\n",
       "    </tr>\n",
       "    <tr>\n",
       "      <th>30744</th>\n",
       "      <td>[Smooth &amp;amp; Supple, Green Wines]</td>\n",
       "      <td>2010</td>\n",
       "      <td>Twomey Cellars by Silver Oak</td>\n",
       "      <td>Pinot Noir</td>\n",
       "      <td>Red Wines</td>\n",
       "      <td>49.99</td>\n",
       "      <td>California</td>\n",
       "      <td>93</td>\n",
       "      <td>121792</td>\n",
       "      <td>Twomey Cellars by Silver Oak Russian River Pin...</td>\n",
       "    </tr>\n",
       "    <tr>\n",
       "      <th>71358</th>\n",
       "      <td>[Smooth &amp;amp; Supple, Green Wines]</td>\n",
       "      <td>2010</td>\n",
       "      <td>Frog's Leap</td>\n",
       "      <td>Cabernet Sauvignon</td>\n",
       "      <td>Red Wines</td>\n",
       "      <td>25.99</td>\n",
       "      <td>California</td>\n",
       "      <td>0</td>\n",
       "      <td>121708</td>\n",
       "      <td>Frog's Leap Estate Grown Cabernet Sauvignon (3...</td>\n",
       "    </tr>\n",
       "    <tr>\n",
       "      <th>1090</th>\n",
       "      <td>[Smooth &amp;amp; Supple, Green Wines, Has Large L...</td>\n",
       "      <td>2009</td>\n",
       "      <td>Frog's Leap</td>\n",
       "      <td>Merlot</td>\n",
       "      <td>Red Wines</td>\n",
       "      <td>34</td>\n",
       "      <td>California</td>\n",
       "      <td>90</td>\n",
       "      <td>114337</td>\n",
       "      <td>Frog's Leap Merlot 2009</td>\n",
       "    </tr>\n",
       "    <tr>\n",
       "      <th>78907</th>\n",
       "      <td>[Smooth &amp;amp; Supple]</td>\n",
       "      <td>2010</td>\n",
       "      <td>Schug Estate Winery</td>\n",
       "      <td>Pinot Noir</td>\n",
       "      <td>Red Wines</td>\n",
       "      <td>16.99</td>\n",
       "      <td>California</td>\n",
       "      <td>93</td>\n",
       "      <td>131071</td>\n",
       "      <td>Schug Carneros Pinot Noir (375ML half-bottle) ...</td>\n",
       "    </tr>\n",
       "    <tr>\n",
       "      <th>11972</th>\n",
       "      <td>[Green Wines, Smooth &amp;amp; Supple, Has Large L...</td>\n",
       "      <td>2008</td>\n",
       "      <td>Frog's Leap</td>\n",
       "      <td>Merlot</td>\n",
       "      <td>Red Wines</td>\n",
       "      <td>34</td>\n",
       "      <td>California</td>\n",
       "      <td>0</td>\n",
       "      <td>109148</td>\n",
       "      <td>Frog's Leap Merlot 2008</td>\n",
       "    </tr>\n",
       "    <tr>\n",
       "      <th>81348</th>\n",
       "      <td>[Smooth &amp;amp; Supple, Green Wines, Has Large L...</td>\n",
       "      <td>2012</td>\n",
       "      <td>Frog's Leap</td>\n",
       "      <td>Cabernet Sauvignon</td>\n",
       "      <td>Red Wines</td>\n",
       "      <td>19.99</td>\n",
       "      <td>California</td>\n",
       "      <td>93</td>\n",
       "      <td>135623</td>\n",
       "      <td>Frog's Leap Estate Grown Cabernet Sauvignon (3...</td>\n",
       "    </tr>\n",
       "    <tr>\n",
       "      <th>99283</th>\n",
       "      <td>[Smooth &amp;amp; Supple]</td>\n",
       "      <td>2010</td>\n",
       "      <td>Belle Glos</td>\n",
       "      <td>Pinot Noir</td>\n",
       "      <td>Red Wines</td>\n",
       "      <td>109</td>\n",
       "      <td>California</td>\n",
       "      <td>93</td>\n",
       "      <td>121151</td>\n",
       "      <td>Belle Glos Clark &amp; Telephone Vineyard Pinot No...</td>\n",
       "    </tr>\n",
       "    <tr>\n",
       "      <th>53625</th>\n",
       "      <td>[Smooth &amp;amp; Supple, Green Wines, Has Large L...</td>\n",
       "      <td>2010</td>\n",
       "      <td>The Hess Collection</td>\n",
       "      <td>Bordeaux Red Blends</td>\n",
       "      <td>Red Wines</td>\n",
       "      <td>38</td>\n",
       "      <td>California</td>\n",
       "      <td>93</td>\n",
       "      <td>128817</td>\n",
       "      <td>Hess Collection 19 Block Cuvee Mt Veeder 2010</td>\n",
       "    </tr>\n",
       "    <tr>\n",
       "      <th>46303</th>\n",
       "      <td>[Smooth &amp;amp; Supple]</td>\n",
       "      <td>2010</td>\n",
       "      <td>Schug Estate Winery</td>\n",
       "      <td>Pinot Noir</td>\n",
       "      <td>Red Wines</td>\n",
       "      <td>32</td>\n",
       "      <td>California</td>\n",
       "      <td>93</td>\n",
       "      <td>130321</td>\n",
       "      <td>Schug Carneros Pinot Noir 2010</td>\n",
       "    </tr>\n",
       "    <tr>\n",
       "      <th>22301</th>\n",
       "      <td>[Smooth &amp;amp; Supple]</td>\n",
       "      <td>2010</td>\n",
       "      <td>Belle Glos</td>\n",
       "      <td>Pinot Noir</td>\n",
       "      <td>Red Wines</td>\n",
       "      <td>50</td>\n",
       "      <td>California</td>\n",
       "      <td>93</td>\n",
       "      <td>114371</td>\n",
       "      <td>Belle Glos Clark &amp; Telephone Vineyard Pinot No...</td>\n",
       "    </tr>\n",
       "    <tr>\n",
       "      <th>64779</th>\n",
       "      <td>[Smooth &amp;amp; Supple]</td>\n",
       "      <td>2010</td>\n",
       "      <td>Aiken</td>\n",
       "      <td>Cabernet Sauvignon</td>\n",
       "      <td>Red Wines</td>\n",
       "      <td>128.99</td>\n",
       "      <td>California</td>\n",
       "      <td>93</td>\n",
       "      <td>131905</td>\n",
       "      <td>Aiken Oakville Cabernet Sauvignon 2010</td>\n",
       "    </tr>\n",
       "    <tr>\n",
       "      <th>87446</th>\n",
       "      <td>[Smooth &amp;amp; Supple]</td>\n",
       "      <td>2010</td>\n",
       "      <td>Alpha Omega</td>\n",
       "      <td>Cabernet Sauvignon</td>\n",
       "      <td>Red Wines</td>\n",
       "      <td>92</td>\n",
       "      <td>California</td>\n",
       "      <td>93</td>\n",
       "      <td>130848</td>\n",
       "      <td>Alpha Omega Cabernet Sauvignon 2010</td>\n",
       "    </tr>\n",
       "    <tr>\n",
       "      <th>34809</th>\n",
       "      <td>[Smooth &amp;amp; Supple]</td>\n",
       "      <td>2005</td>\n",
       "      <td>Frog's Leap</td>\n",
       "      <td>Cabernet Sauvignon</td>\n",
       "      <td>Red Wines</td>\n",
       "      <td>78.99</td>\n",
       "      <td>California</td>\n",
       "      <td>93</td>\n",
       "      <td>98372</td>\n",
       "      <td>Frog's Leap Rutherford Cabernet Sauvignon 2005</td>\n",
       "    </tr>\n",
       "    <tr>\n",
       "      <th>105027</th>\n",
       "      <td>[Green Wines]</td>\n",
       "      <td>2010</td>\n",
       "      <td>Storybook Mountain Vineyards</td>\n",
       "      <td>Other Red Blends</td>\n",
       "      <td>Red Wines</td>\n",
       "      <td>39.99</td>\n",
       "      <td>California</td>\n",
       "      <td>93</td>\n",
       "      <td>140268</td>\n",
       "      <td>Storybook Mountain Antaeus 2010</td>\n",
       "    </tr>\n",
       "    <tr>\n",
       "      <th>37434</th>\n",
       "      <td>[Smooth &amp;amp; Supple, Green Wines]</td>\n",
       "      <td>2010</td>\n",
       "      <td>Raymond Vineyard</td>\n",
       "      <td>Cabernet Sauvignon</td>\n",
       "      <td>Red Wines</td>\n",
       "      <td>13.99</td>\n",
       "      <td>California</td>\n",
       "      <td>0</td>\n",
       "      <td>113201</td>\n",
       "      <td>Raymond R Collection Cabernet Sauvignon 2010</td>\n",
       "    </tr>\n",
       "    <tr>\n",
       "      <th>8971</th>\n",
       "      <td>[Light &amp;amp; Crisp, Green Wines]</td>\n",
       "      <td>2010</td>\n",
       "      <td>Frog's Leap</td>\n",
       "      <td>Sauvignon Blanc</td>\n",
       "      <td>White Wines</td>\n",
       "      <td>12.79</td>\n",
       "      <td>California</td>\n",
       "      <td>93</td>\n",
       "      <td>110977</td>\n",
       "      <td>Frog's Leap Napa Valley Sauvignon Blanc (375ML...</td>\n",
       "    </tr>\n",
       "  </tbody>\n",
       "</table>\n",
       "</div>"
      ],
      "text/plain": [
       "                                                     Attr Vintage  \\\n",
       "33156                  [Smooth &amp; Supple, Green Wines]    2010   \n",
       "99360                  [Smooth &amp; Supple, Green Wines]    2010   \n",
       "32976                  [Smooth &amp; Supple, Green Wines]    2010   \n",
       "71011                  [Green Wines, Smooth &amp; Supple]    2010   \n",
       "30744                  [Smooth &amp; Supple, Green Wines]    2010   \n",
       "71358                  [Smooth &amp; Supple, Green Wines]    2010   \n",
       "1090    [Smooth &amp; Supple, Green Wines, Has Large L...    2009   \n",
       "78907                               [Smooth &amp; Supple]    2010   \n",
       "11972   [Green Wines, Smooth &amp; Supple, Has Large L...    2008   \n",
       "81348   [Smooth &amp; Supple, Green Wines, Has Large L...    2012   \n",
       "99283                               [Smooth &amp; Supple]    2010   \n",
       "53625   [Smooth &amp; Supple, Green Wines, Has Large L...    2010   \n",
       "46303                               [Smooth &amp; Supple]    2010   \n",
       "22301                               [Smooth &amp; Supple]    2010   \n",
       "64779                               [Smooth &amp; Supple]    2010   \n",
       "87446                               [Smooth &amp; Supple]    2010   \n",
       "34809                               [Smooth &amp; Supple]    2005   \n",
       "105027                                      [Green Wines]    2010   \n",
       "37434                  [Smooth &amp; Supple, Green Wines]    2010   \n",
       "8971                     [Light &amp; Crisp, Green Wines]    2010   \n",
       "\n",
       "                       Vineyard/Name        Varietal/Name  \\\n",
       "33156                    Frog's Leap               Merlot   \n",
       "99360                    Frog's Leap               Merlot   \n",
       "32976                    Frog's Leap   Cabernet Sauvignon   \n",
       "71011                    Frog's Leap   Cabernet Sauvignon   \n",
       "30744   Twomey Cellars by Silver Oak           Pinot Noir   \n",
       "71358                    Frog's Leap   Cabernet Sauvignon   \n",
       "1090                     Frog's Leap               Merlot   \n",
       "78907            Schug Estate Winery           Pinot Noir   \n",
       "11972                    Frog's Leap               Merlot   \n",
       "81348                    Frog's Leap   Cabernet Sauvignon   \n",
       "99283                     Belle Glos           Pinot Noir   \n",
       "53625            The Hess Collection  Bordeaux Red Blends   \n",
       "46303            Schug Estate Winery           Pinot Noir   \n",
       "22301                     Belle Glos           Pinot Noir   \n",
       "64779                          Aiken   Cabernet Sauvignon   \n",
       "87446                    Alpha Omega   Cabernet Sauvignon   \n",
       "34809                    Frog's Leap   Cabernet Sauvignon   \n",
       "105027  Storybook Mountain Vineyards     Other Red Blends   \n",
       "37434               Raymond Vineyard   Cabernet Sauvignon   \n",
       "8971                     Frog's Leap      Sauvignon Blanc   \n",
       "\n",
       "       Varietal/WineType/Name PriceRetail Appellation/Region/Name  \\\n",
       "33156               Red Wines          34              California   \n",
       "99360               Red Wines          76              California   \n",
       "32976               Red Wines          42              California   \n",
       "71011               Red Wines          85              California   \n",
       "30744               Red Wines       49.99              California   \n",
       "71358               Red Wines       25.99              California   \n",
       "1090                Red Wines          34              California   \n",
       "78907               Red Wines       16.99              California   \n",
       "11972               Red Wines          34              California   \n",
       "81348               Red Wines       19.99              California   \n",
       "99283               Red Wines         109              California   \n",
       "53625               Red Wines          38              California   \n",
       "46303               Red Wines          32              California   \n",
       "22301               Red Wines          50              California   \n",
       "64779               Red Wines      128.99              California   \n",
       "87446               Red Wines          92              California   \n",
       "34809               Red Wines       78.99              California   \n",
       "105027              Red Wines       39.99              California   \n",
       "37434               Red Wines       13.99              California   \n",
       "8971              White Wines       12.79              California   \n",
       "\n",
       "       Ratings/HighestScore      Id  \\\n",
       "33156                    93  119903   \n",
       "99360                     0  121126   \n",
       "32976                     0  121128   \n",
       "71011                     0  125119   \n",
       "30744                    93  121792   \n",
       "71358                     0  121708   \n",
       "1090                     90  114337   \n",
       "78907                    93  131071   \n",
       "11972                     0  109148   \n",
       "81348                    93  135623   \n",
       "99283                    93  121151   \n",
       "53625                    93  128817   \n",
       "46303                    93  130321   \n",
       "22301                    93  114371   \n",
       "64779                    93  131905   \n",
       "87446                    93  130848   \n",
       "34809                    93   98372   \n",
       "105027                   93  140268   \n",
       "37434                     0  113201   \n",
       "8971                     93  110977   \n",
       "\n",
       "                                                     Name  \n",
       "33156                             Frog's Leap Merlot 2010  \n",
       "99360          Frog's Leap Merlot (1.5 Liter Magnum) 2010  \n",
       "32976    Frog's Leap Estate Grown Cabernet Sauvignon 2010  \n",
       "71011   Frog's Leap Estate Grown Cabernet Sauvignon (1...  \n",
       "30744   Twomey Cellars by Silver Oak Russian River Pin...  \n",
       "71358   Frog's Leap Estate Grown Cabernet Sauvignon (3...  \n",
       "1090                              Frog's Leap Merlot 2009  \n",
       "78907   Schug Carneros Pinot Noir (375ML half-bottle) ...  \n",
       "11972                             Frog's Leap Merlot 2008  \n",
       "81348   Frog's Leap Estate Grown Cabernet Sauvignon (3...  \n",
       "99283   Belle Glos Clark & Telephone Vineyard Pinot No...  \n",
       "53625       Hess Collection 19 Block Cuvee Mt Veeder 2010  \n",
       "46303                      Schug Carneros Pinot Noir 2010  \n",
       "22301   Belle Glos Clark & Telephone Vineyard Pinot No...  \n",
       "64779              Aiken Oakville Cabernet Sauvignon 2010  \n",
       "87446                 Alpha Omega Cabernet Sauvignon 2010  \n",
       "34809      Frog's Leap Rutherford Cabernet Sauvignon 2005  \n",
       "105027                    Storybook Mountain Antaeus 2010  \n",
       "37434        Raymond R Collection Cabernet Sauvignon 2010  \n",
       "8971    Frog's Leap Napa Valley Sauvignon Blanc (375ML...  "
      ]
     },
     "execution_count": 16,
     "metadata": {},
     "output_type": "execute_result"
    }
   ],
   "source": [
    "nn = NearestNeighbors(n_neighbors=20).fit(features)\n",
    "\n",
    "# features[1] is the second observation in df, which is used as the point to find its 20 neareast neighbours\n",
    "dists, indices = nn.kneighbors(features[fd[fd[\"Id\"]==119903].index.tolist()[0]])\n",
    "fd.loc[indices[0],:]\n"
   ]
  },
  {
   "cell_type": "code",
   "execution_count": null,
   "metadata": {
    "collapsed": true
   },
   "outputs": [],
   "source": [
    "from functools import reduce\n",
    "res = []\n",
    "for i in selected['Id']:\n",
    "    dists, indices = nn.kneighbors(features[fd[fd[\"Id\"]==i].index.tolist()[0]])\n",
    "    res.append(fd.loc[indices[0]])\n",
    "df = pd.concat(res)"
   ]
  },
  {
   "cell_type": "code",
   "execution_count": null,
   "metadata": {
    "collapsed": true
   },
   "outputs": [],
   "source": [
    "df[df.duplicated(subset =[\"Id\"])]"
   ]
  },
  {
   "cell_type": "code",
   "execution_count": null,
   "metadata": {
    "collapsed": true
   },
   "outputs": [],
   "source": [
    "#from sklearn.cluster import KMeans\n",
    "#km = KMeans(n_clusters = 5).fit(features)"
   ]
  },
  {
   "cell_type": "code",
   "execution_count": null,
   "metadata": {
    "collapsed": true
   },
   "outputs": [],
   "source": [
    "#km.cluster_centers_[0]"
   ]
  },
  {
   "cell_type": "code",
   "execution_count": null,
   "metadata": {
    "collapsed": true
   },
   "outputs": [],
   "source": [
    "#select wine for myself to use for prediction\n",
    "res = []\n",
    "for i in range(len(fdf['Attr'])):\n",
    "    try:\n",
    "        if fd.loc[i]['Attr'][0] == 'Smooth &amp; Supple' and fd.loc[i]['Varietal/Name']=='Merlot':\n",
    "            res.append(fd.loc[i][\"Id\"])\n",
    "    except:\n",
    "        continue\n",
    "#sort by both features\n",
    "fd[fd[\"Id\"].isin(res)].sort_values([\"Ratings/HighestScore\", \"PriceRetail\"], ascending = [0, 1])"
   ]
  },
  {
   "cell_type": "code",
   "execution_count": null,
   "metadata": {
    "collapsed": true
   },
   "outputs": [],
   "source": [
    "#selected wine ids\n",
    "sd = [109052, 109373, 113234, 119903]\n",
    "#get rows correspondent to the selected ids\n",
    "selected = fd[fd[\"Id\"].isin(sd)]"
   ]
  },
  {
   "cell_type": "code",
   "execution_count": null,
   "metadata": {
    "collapsed": true
   },
   "outputs": [],
   "source": [
    "#assign the ratings for each wine that I picked\n",
    "selected[\"rating\"] = [4,5,3,4]"
   ]
  },
  {
   "cell_type": "code",
   "execution_count": null,
   "metadata": {
    "collapsed": true
   },
   "outputs": [],
   "source": [
    "selected"
   ]
  },
  {
   "cell_type": "code",
   "execution_count": null,
   "metadata": {
    "collapsed": true
   },
   "outputs": [],
   "source": [
    "#the recommended results (wine ids) from collabrotive filtering\n",
    "collab = [139662,\n",
    " 142616,\n",
    " 138343,\n",
    " 135501,\n",
    " 131991,\n",
    " 94950,\n",
    " 131981,\n",
    " 145266,\n",
    " 122774,\n",
    " 167243,\n",
    " 126553,\n",
    " 124908,\n",
    " 123602,\n",
    " 167882,\n",
    " 141174,\n",
    " 117411,\n",
    " 116212,\n",
    " 98683,\n",
    " 94958,\n",
    " 94073]"
   ]
  },
  {
   "cell_type": "code",
   "execution_count": null,
   "metadata": {
    "collapsed": true
   },
   "outputs": [],
   "source": [
    "#concatenate the results from both systems\n",
    "col = fd[fd[\"Id\"].isin(collab)]\n",
    "l = [col, selected]\n",
    "recommend = pd.concat(l)"
   ]
  },
  {
   "cell_type": "code",
   "execution_count": null,
   "metadata": {
    "collapsed": true
   },
   "outputs": [],
   "source": [
    "recommend"
   ]
  },
  {
   "cell_type": "code",
   "execution_count": null,
   "metadata": {
    "collapsed": true
   },
   "outputs": [],
   "source": []
  }
 ],
 "metadata": {
  "kernelspec": {
   "display_name": "Python 3",
   "language": "python",
   "name": "python3"
  },
  "language_info": {
   "codemirror_mode": {
    "name": "ipython",
    "version": 3
   },
   "file_extension": ".py",
   "mimetype": "text/x-python",
   "name": "python",
   "nbconvert_exporter": "python",
   "pygments_lexer": "ipython3",
   "version": "3.6.2"
  }
 },
 "nbformat": 4,
 "nbformat_minor": 2
}
